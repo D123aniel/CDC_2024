{
  "nbformat": 4,
  "nbformat_minor": 0,
  "metadata": {
    "colab": {
      "provenance": []
    },
    "kernelspec": {
      "name": "python3",
      "display_name": "Python 3"
    },
    "language_info": {
      "name": "python"
    }
  },
  "cells": [
    {
      "cell_type": "code",
      "execution_count": 21,
      "metadata": {
        "id": "fu8FdnwRJgVi",
        "colab": {
          "base_uri": "https://localhost:8080/"
        },
        "outputId": "1140665c-ff0c-46b9-82de-058971b8b773"
      },
      "outputs": [
        {
          "output_type": "stream",
          "name": "stdout",
          "text": [
            "(245955, 23)\n",
            "       tbl  Year  quarter  citymarketid_1  citymarketid_2  \\\n",
            "0  Table1a  2021        3           30135           33195   \n",
            "1  Table1a  2021        3           30135           33195   \n",
            "2  Table1a  2021        3           30140           30194   \n",
            "3  Table1a  2021        3           30140           30194   \n",
            "4  Table1a  2021        3           30140           30466   \n",
            "\n",
            "                            city1                          city2  airportid_1  \\\n",
            "0  Allentown/Bethlehem/Easton, PA  Tampa, FL (Metropolitan Area)        10135   \n",
            "1  Allentown/Bethlehem/Easton, PA  Tampa, FL (Metropolitan Area)        10135   \n",
            "2                 Albuquerque, NM          Dallas/Fort Worth, TX        10140   \n",
            "3                 Albuquerque, NM          Dallas/Fort Worth, TX        10140   \n",
            "4                 Albuquerque, NM                    Phoenix, AZ        10140   \n",
            "\n",
            "   airportid_2 airport_1  ...    fare  carrier_lg  large_ms  fare_lg  \\\n",
            "0        14112       ABE  ...   81.43          G4    1.0000    81.43   \n",
            "1        15304       ABE  ...  208.93          DL    0.4659   219.98   \n",
            "2        11259       ABQ  ...  184.56          WN    0.9968   184.44   \n",
            "3        11298       ABQ  ...  182.64          AA    0.9774   183.09   \n",
            "4        14107       ABQ  ...  177.11          WN    0.6061   184.49   \n",
            "\n",
            "  carrier_low   lf_ms  fare_low Geocoded_City1  Geocoded_City2  \\\n",
            "0          G4  1.0000     81.43            NaN             NaN   \n",
            "1          UA  0.1193    154.11            NaN             NaN   \n",
            "2          WN  0.9968    184.44            NaN             NaN   \n",
            "3          AA  0.9774    183.09            NaN             NaN   \n",
            "4          AA  0.3939    165.77            NaN             NaN   \n",
            "\n",
            "                 tbl1apk  \n",
            "0  202131013514112ABEPIE  \n",
            "1  202131013515304ABETPA  \n",
            "2  202131014011259ABQDAL  \n",
            "3  202131014011298ABQDFW  \n",
            "4  202131014014107ABQPHX  \n",
            "\n",
            "[5 rows x 23 columns]\n"
          ]
        }
      ],
      "source": [
        "import numpy as np\n",
        "import pandas as pd\n",
        "import matplotlib.pyplot as plt\n",
        "import seaborn as sns\n",
        "\n",
        "import warnings\n",
        "warnings.filterwarnings('ignore')\n",
        "\n",
        "planeData = pd.read_csv('/flights.csv')\n",
        "print(planeData.shape)\n",
        "print(planeData.head())"
      ]
    },
    {
      "cell_type": "code",
      "source": [
        "planeData = pd.read_csv('/flights.csv')\n",
        "#Drop unneeded columns\n",
        "planeData = planeData.drop(['tbl', 'citymarketid_1', 'citymarketid_2', 'airportid_1', 'airportid_2', 'tbl1apk'], axis=1)\n",
        "#Drop null rows\n",
        "planeData = planeData.dropna()\n",
        "#Assume this is lowest number of passengers\n",
        "planeData = planeData[planeData['passengers'] >= 25]\n",
        "#Drop non-full year data (2024)\n",
        "planeData = planeData[planeData['Year'] != 2024]\n",
        "#Highest number of possible passengers in largest plane (A380)\n",
        "planeData = planeData[planeData['passengers'] <= 850]\n",
        "#If market share is completely dominated by one\n",
        "planeData = planeData[planeData['large_ms'] != planeData['lf_ms']]\n",
        "print(planeData.shape)\n",
        "print(planeData.head())"
      ],
      "metadata": {
        "colab": {
          "base_uri": "https://localhost:8080/"
        },
        "id": "YIwqqjORwBQ6",
        "outputId": "fe9038bf-8855-4d72-8267-820412793c7e"
      },
      "execution_count": 22,
      "outputs": [
        {
          "output_type": "stream",
          "name": "stdout",
          "text": [
            "(74771, 17)\n",
            "      Year  quarter                           city1  \\\n",
            "5919  2010        1              Salt Lake City, UT   \n",
            "5921  1998        4                  Pittsburgh, PA   \n",
            "5924  2010        4                 Kansas City, MO   \n",
            "5927  2005        4  Boston, MA (Metropolitan Area)   \n",
            "5929  2001        1                   Nashville, TN   \n",
            "\n",
            "                                      city2 airport_1 airport_2  nsmiles  \\\n",
            "5919          Tampa, FL (Metropolitan Area)       SLC       TPA     1887   \n",
            "5921     Washington, DC (Metropolitan Area)       PIT       BWI      210   \n",
            "5924    Los Angeles, CA (Metropolitan Area)       MCI       SNA     1363   \n",
            "5927                            Buffalo, NY       PVD       BUF      396   \n",
            "5929  New York City, NY (Metropolitan Area)       BNA       LGA      803   \n",
            "\n",
            "      passengers    fare carrier_lg  large_ms  fare_lg carrier_low  lf_ms  \\\n",
            "5919         200  226.59         DL      0.38   247.69          US   0.20   \n",
            "5921         152  239.12         US      0.93   245.70          CO   0.03   \n",
            "5924         175  201.46         WN      0.38   208.53          F9   0.11   \n",
            "5927          41  177.37         US      0.72   175.45          CO   0.16   \n",
            "5929         283  281.84         AA      0.71   287.06          DL   0.15   \n",
            "\n",
            "      fare_low                                     Geocoded_City1  \\\n",
            "5919    166.99       Salt Lake City, UT\\n(40.758478, -111.888142)   \n",
            "5921     71.30            Pittsburgh, PA\\n(40.442169, -79.994945)   \n",
            "5924    162.07           Kansas City, MO\\n(39.099792, -94.578559)   \n",
            "5927    170.24  Boston, MA (Metropolitan Area)\\n(42.358894, -7...   \n",
            "5929    278.68             Nashville, TN\\n(36.166687, -86.779932)   \n",
            "\n",
            "                                         Geocoded_City2  \n",
            "5919  Tampa, FL (Metropolitan Area)\\n(37.8606, -78.8...  \n",
            "5921  Washington, DC (Metropolitan Area)\\n(38.892062...  \n",
            "5924  Los Angeles, CA (Metropolitan Area)\\n(34.05223...  \n",
            "5927                Buffalo, NY\\n(39.945422, -78.64671)  \n",
            "5929  New York City, NY (Metropolitan Area)\\n(40.123...  \n"
          ]
        }
      ]
    },
    {
      "cell_type": "code",
      "source": [],
      "metadata": {
        "id": "HCrbkM6e08Fz"
      },
      "execution_count": null,
      "outputs": []
    }
  ]
}